{
 "cells": [
  {
   "cell_type": "markdown",
   "metadata": {},
   "source": [
    "# Loading MoleculeNet data"
   ]
  },
  {
   "cell_type": "markdown",
   "metadata": {},
   "source": [
    "This tutorial shows how to load GEOM conformers of [MoleculeNet](https://pubs.rsc.org/en/content/articlehtml/2018/sc/c7sc02664a) species. The approach is the exact same as in `02_loading_rdkit_mols`; however, there are a few folders with results from different levels of theory. This tutorial will explain what those folders are and how to compare their information.\n",
    "\n",
    "**Note: this tutorial uses MoleculeNet GEOM data, which is not yet publicly available. The data will be uploaded shortly.**"
   ]
  },
  {
   "cell_type": "markdown",
   "metadata": {},
   "source": [
    "## Different levels of theory\n",
    "There are four MoleculeNet folders, each with different data computed with different methods. They are:\n",
    "1. `molecule_net`\n",
    "    - This is the folder with CREST conformer ensembles computed in **vacuum**. It has data for over 97% of species in ESOL, FreeSolv, Lipophilicity, BACE, BBBP, Tox21, ToxCast, SIDER, and ClinTox.\n",
    "    - Note that some of the molecules in MoleculeNet are also in GEOM-Drugs. All repeats can be found in either folder.\n",
    "    \n",
    "\n",
    "2. `bace_water`\n",
    "    - This folder has CREST conformer ensembles computed in **water** for the BACE dataset. The solvent was treated with the ALPB model.\n",
    "    - 1,511 of the 1,513 BACE species are available (99.9%).\n",
    "    - In addition to the normal CREST/xTB data, each species also has single-point DFT calculations **in water** for most of its CREST conformers.\n",
    "        - These calculations were performed with the r2scan-3c functional, using the mtzvpp basis, with a PCM description of water\n",
    "        - The DFT information for each conformer is a value in the conformer dictionary, with the key \"r2scan_3c_mtzvpp\" (more on that below).\n",
    "        - The conformers that do or don't have r2scan calculations can be confusing\n",
    "            - In short, every species should have single-point r2scan calculations for all conformers with non-negligible statistical weight. In particular:\n",
    "                - Not every CREST conformer in the BACE dataset has a single point r2scan calculation. In fact, for a given CENSO job, about 73% of conformers were removed after a b973c calculation. This was because their b97 free energies were higher than the CENSO threshold of 4.0 kcal/mol\n",
    "                - Some CREST conformers with free energies *much higher* than 4.0 kcal/mol may also be present. Because for about 20% of the species, we did single point calculations on all geometries, rather than  rather than first doing b973c and then selecting those below a threshold. We did not do CENSO on these species because it would have been too expensive\n",
    "        \n",
    "    \n",
    "    \n",
    "3. `censo`\n",
    "    - This folder has CENSO conformer ensembles computed in **water** for the BACE dataset. The solvent was treated with the PCM model; more details of the calculation can be found in the GEOM paper.\n",
    "    - 1,226 of the 1,513 BACE species are available (81%).\n",
    "    - The data in each pickle file is organized just like all the others. One thing of note is that each conformer has a value for `confnum` assigned to it. \n",
    "        - This is the number of the original CREST conformer that was optimized, and led to the current CENSO conformer. \n",
    "        - The numbers are ordered from highest CREST Boltzmann weight to lowest, and start at 1.\n",
    "        - The original CREST conformer can therefore be found in the `bace_water` folder by matching up its value of `confnum` to that of the CENSO conformer. This can be useful for seeing how much the DFT optimization changed each geometry.\n",
    "        \n",
    "   \n",
    "4. `censo_hess_and_orbs`\n",
    "    - The final CENSO geometries have Hessians for computing the free energy contribution to the statistical weight. These were computed with the [\"single-point Hessian\" method](https://pubs.acs.org/doi/abs/10.1021/acs.jctc.0c01306?casa_token=1FkQuhnvzbkAAAAA:FHOXbVkt1ZICCzdgmFbxaK3tbLUNcSUwIj2QXlPVPLivWdxHguUgHdeijb5VYmqg2rLEww1b5U8Mzm0), and so is an *approximation* to the exact r2scan-3c Hessian.\n",
    "    - Because the Hessians are quite large, we have separated them from the pickle files in `censo` and put them in their own folder, `censo_hess_and_orbs`. We have also put the orbital energies in this folder.\n",
    "    - Each pickle file is a dictionary, where the keys are conformer IDs and the values are Hessian and orbital information. They can be matched to the `censo` conformers by finding the matching `geom_id` key (more on that below).\n",
    "\n"
   ]
  },
  {
   "cell_type": "markdown",
   "metadata": {},
   "source": [
    "## MoleculeNet\n",
    "Let's start by loading some data from the `molecule_net` folder. As usual we'll start by loading the summary dictionary to figure out what data is available:"
   ]
  },
  {
   "cell_type": "code",
   "execution_count": 1,
   "metadata": {},
   "outputs": [],
   "source": [
    "%load_ext autoreload\n",
    "%autoreload 2"
   ]
  },
  {
   "cell_type": "code",
   "execution_count": 2,
   "metadata": {},
   "outputs": [
    {
     "name": "stdout",
     "output_type": "stream",
     "text": [
      "16394\n"
     ]
    }
   ],
   "source": [
    "import os\n",
    "import json\n",
    "\n",
    "# change to your `molecule_net` path:\n",
    "\n",
    "molecule_net_path = '/home/saxelrod/rgb_nfs/GEOM/data_after_reviews/molecule_net'\n",
    "summary_path = os.path.join(molecule_net_path, 'summary.json')\n",
    "\n",
    "with open(summary_path, 'r') as f:\n",
    "    summary = json.load(f)\n",
    "\n",
    "print(len(summary))\n"
   ]
  },
  {
   "cell_type": "markdown",
   "metadata": {},
   "source": [
    "Let's see which datasets are available:"
   ]
  },
  {
   "cell_type": "code",
   "execution_count": 3,
   "metadata": {},
   "outputs": [
    {
     "name": "stdout",
     "output_type": "stream",
     "text": [
      "['bace', 'toxcast', 'clintox', 'esol', 'bbbp', 'freesolv', 'tox21', 'lipo', 'pdbbind', 'sider']\n"
     ]
    }
   ],
   "source": [
    "datasets = []\n",
    "for sub_dic in summary.values():\n",
    "    datasets += sub_dic.get('datasets', [])\n",
    "datasets = list(set(datasets))\n",
    "print(datasets)"
   ]
  },
  {
   "cell_type": "markdown",
   "metadata": {},
   "source": [
    "As expected, we see the 9 MoleculeNet datasets mentioned above, plus `pdbbind` (of which there are only a few molecules). Let's find molecules with some `tox21` properties:"
   ]
  },
  {
   "cell_type": "code",
   "execution_count": 8,
   "metadata": {},
   "outputs": [
    {
     "name": "stdout",
     "output_type": "stream",
     "text": [
      "7369\n"
     ]
    },
    {
     "data": {
      "image/png": "[encoded data removed]",
      "text/plain": [
       "<rdkit.Chem.rdchem.Mol at 0x7fc7ea9b9490>"
      ]
     },
     "metadata": {},
     "output_type": "display_data"
    },
    {
     "name": "stdout",
     "output_type": "stream",
     "text": [
      "Cc1ccc(O)c2ncccc12\n"
     ]
    },
    {
     "data": {
      "text/plain": [
       "{'pickle_path': 'rd_mols/RPVGLMKJGQMQSN-UHFFFAOYNA-N.pickle',\n",
       " 'datasets': ['tox21', 'toxcast'],\n",
       " 'tox21': {'nr-ar': 0.0,\n",
       "  'nr-ar-lbd': 0.0,\n",
       "  'nr-ahr': 0.0,\n",
       "  'nr-aromatase': '',\n",
       "  'nr-er': '',\n",
       "  'nr-er-lbd': 0.0,\n",
       "  'nr-ppar-gamma': '',\n",
       "  'sr-are': 1.0,\n",
       "  'sr-atad5': 0.0,\n",
       "  'sr-hse': 1.0,\n",
       "  'sr-mmp': 0.0,\n",
       "  'sr-p53': 1.0},\n",
       " 'toxcast': {'acea_t47d_80hr_negative': '',\n",
       "  'acea_t47d_80hr_positive': '',\n",
       "  'apr_hepg2_cellcyclearrest_24h_dn': '',\n",
       "  'apr_hepg2_cellcyclearrest_24h_up': '',\n",
       "  'apr_hepg2_cellcyclearrest_72h_dn': '',\n",
       "  'apr_hepg2_cellloss_24h_dn': '',\n",
       "  'apr_hepg2_cellloss_72h_dn': '',\n",
       "  'apr_hepg2_microtubulecsk_24h_dn': '',\n",
       "  'apr_hepg2_microtubulecsk_24h_up': '',\n",
       "  'apr_hepg2_microtubulecsk_72h_dn': '',\n",
       "  'apr_hepg2_microtubulecsk_72h_up': '',\n",
       "  'apr_hepg2_mitomass_24h_dn': '',\n",
       "  'apr_hepg2_mitomass_24h_up': '',\n",
       "  'apr_hepg2_mitomass_72h_dn': '',\n",
       "  'apr_hepg2_mitomass_72h_up': '',\n",
       "  'apr_hepg2_mitomembpot_1h_dn': '',\n",
       "  'apr_hepg2_mitomembpot_24h_dn': '',\n",
       "  'apr_hepg2_mitomembpot_72h_dn': '',\n",
       "  'apr_hepg2_mitoticarrest_24h_up': '',\n",
       "  'apr_hepg2_mitoticarrest_72h_up': '',\n",
       "  'apr_hepg2_nuclearsize_24h_dn': '',\n",
       "  'apr_hepg2_nuclearsize_72h_dn': '',\n",
       "  'apr_hepg2_nuclearsize_72h_up': '',\n",
       "  'apr_hepg2_oxidativestress_24h_up': '',\n",
       "  'apr_hepg2_oxidativestress_72h_up': '',\n",
       "  'apr_hepg2_stresskinase_1h_up': '',\n",
       "  'apr_hepg2_stresskinase_24h_up': '',\n",
       "  'apr_hepg2_stresskinase_72h_up': '',\n",
       "  'apr_hepg2_p53act_24h_up': '',\n",
       "  'apr_hepg2_p53act_72h_up': '',\n",
       "  'apr_hepat_apoptosis_24hr_up': '',\n",
       "  'apr_hepat_apoptosis_48hr_up': '',\n",
       "  'apr_hepat_cellloss_24hr_dn': '',\n",
       "  'apr_hepat_cellloss_48hr_dn': '',\n",
       "  'apr_hepat_dnadamage_24hr_up': '',\n",
       "  'apr_hepat_dnadamage_48hr_up': '',\n",
       "  'apr_hepat_dnatexture_24hr_up': '',\n",
       "  'apr_hepat_dnatexture_48hr_up': '',\n",
       "  'apr_hepat_mitofxni_1hr_dn': '',\n",
       "  'apr_hepat_mitofxni_24hr_dn': '',\n",
       "  'apr_hepat_mitofxni_48hr_dn': '',\n",
       "  'apr_hepat_nuclearsize_24hr_dn': '',\n",
       "  'apr_hepat_nuclearsize_48hr_dn': '',\n",
       "  'apr_hepat_steatosis_24hr_up': '',\n",
       "  'apr_hepat_steatosis_48hr_up': '',\n",
       "  'atg_ap_1_cis_dn': '',\n",
       "  'atg_ap_1_cis_up': '',\n",
       "  'atg_ap_2_cis_dn': '',\n",
       "  'atg_ap_2_cis_up': '',\n",
       "  'atg_ar_trans_dn': '',\n",
       "  'atg_ar_trans_up': '',\n",
       "  'atg_ahr_cis_dn': '',\n",
       "  'atg_ahr_cis_up': '',\n",
       "  'atg_bre_cis_dn': '',\n",
       "  'atg_bre_cis_up': '',\n",
       "  'atg_car_trans_dn': '',\n",
       "  'atg_car_trans_up': '',\n",
       "  'atg_cmv_cis_dn': '',\n",
       "  'atg_cmv_cis_up': '',\n",
       "  'atg_cre_cis_dn': '',\n",
       "  'atg_cre_cis_up': '',\n",
       "  'atg_c_ebp_cis_dn': '',\n",
       "  'atg_c_ebp_cis_up': '',\n",
       "  'atg_dr4_lxr_cis_dn': '',\n",
       "  'atg_dr4_lxr_cis_up': '',\n",
       "  'atg_dr5_cis_dn': '',\n",
       "  'atg_dr5_cis_up': '',\n",
       "  'atg_e2f_cis_dn': '',\n",
       "  'atg_e2f_cis_up': '',\n",
       "  'atg_egr_cis_up': '',\n",
       "  'atg_ere_cis_dn': '',\n",
       "  'atg_ere_cis_up': '',\n",
       "  'atg_erra_trans_dn': '',\n",
       "  'atg_errg_trans_dn': '',\n",
       "  'atg_errg_trans_up': '',\n",
       "  'atg_era_trans_up': '',\n",
       "  'atg_e_box_cis_dn': '',\n",
       "  'atg_e_box_cis_up': '',\n",
       "  'atg_ets_cis_dn': '',\n",
       "  'atg_ets_cis_up': '',\n",
       "  'atg_fxr_trans_up': '',\n",
       "  'atg_foxa2_cis_dn': '',\n",
       "  'atg_foxa2_cis_up': '',\n",
       "  'atg_foxo_cis_dn': '',\n",
       "  'atg_foxo_cis_up': '',\n",
       "  'atg_gal4_trans_dn': '',\n",
       "  'atg_gata_cis_dn': '',\n",
       "  'atg_gata_cis_up': '',\n",
       "  'atg_gli_cis_dn': '',\n",
       "  'atg_gli_cis_up': '',\n",
       "  'atg_gre_cis_dn': '',\n",
       "  'atg_gre_cis_up': '',\n",
       "  'atg_gr_trans_dn': '',\n",
       "  'atg_gr_trans_up': '',\n",
       "  'atg_hif1a_cis_dn': '',\n",
       "  'atg_hif1a_cis_up': '',\n",
       "  'atg_hnf4a_trans_dn': '',\n",
       "  'atg_hnf4a_trans_up': '',\n",
       "  'atg_hnf6_cis_dn': '',\n",
       "  'atg_hnf6_cis_up': '',\n",
       "  'atg_hse_cis_dn': '',\n",
       "  'atg_hse_cis_up': '',\n",
       "  'atg_ir1_cis_dn': '',\n",
       "  'atg_ir1_cis_up': '',\n",
       "  'atg_isre_cis_dn': '',\n",
       "  'atg_isre_cis_up': '',\n",
       "  'atg_lxra_trans_dn': '',\n",
       "  'atg_lxra_trans_up': '',\n",
       "  'atg_lxrb_trans_dn': '',\n",
       "  'atg_lxrb_trans_up': '',\n",
       "  'atg_mre_cis_up': '',\n",
       "  'atg_m_06_trans_up': '',\n",
       "  'atg_m_19_cis_dn': '',\n",
       "  'atg_m_19_trans_dn': '',\n",
       "  'atg_m_19_trans_up': '',\n",
       "  'atg_m_32_cis_dn': '',\n",
       "  'atg_m_32_cis_up': '',\n",
       "  'atg_m_32_trans_dn': '',\n",
       "  'atg_m_32_trans_up': '',\n",
       "  'atg_m_61_trans_up': '',\n",
       "  'atg_myb_cis_dn': '',\n",
       "  'atg_myb_cis_up': '',\n",
       "  'atg_myc_cis_dn': '',\n",
       "  'atg_myc_cis_up': '',\n",
       "  'atg_nfi_cis_dn': '',\n",
       "  'atg_nfi_cis_up': '',\n",
       "  'atg_nf_kb_cis_dn': '',\n",
       "  'atg_nf_kb_cis_up': '',\n",
       "  'atg_nrf1_cis_dn': '',\n",
       "  'atg_nrf1_cis_up': '',\n",
       "  'atg_nrf2_are_cis_dn': '',\n",
       "  'atg_nrf2_are_cis_up': '',\n",
       "  'atg_nurr1_trans_dn': '',\n",
       "  'atg_nurr1_trans_up': '',\n",
       "  'atg_oct_mlp_cis_dn': '',\n",
       "  'atg_oct_mlp_cis_up': '',\n",
       "  'atg_pbrem_cis_dn': '',\n",
       "  'atg_pbrem_cis_up': '',\n",
       "  'atg_ppara_trans_dn': '',\n",
       "  'atg_ppara_trans_up': '',\n",
       "  'atg_ppard_trans_up': '',\n",
       "  'atg_pparg_trans_up': '',\n",
       "  'atg_ppre_cis_dn': '',\n",
       "  'atg_ppre_cis_up': '',\n",
       "  'atg_pxre_cis_dn': '',\n",
       "  'atg_pxre_cis_up': '',\n",
       "  'atg_pxr_trans_dn': '',\n",
       "  'atg_pxr_trans_up': '',\n",
       "  'atg_pax6_cis_up': '',\n",
       "  'atg_rara_trans_dn': '',\n",
       "  'atg_rara_trans_up': '',\n",
       "  'atg_rarb_trans_dn': '',\n",
       "  'atg_rarb_trans_up': '',\n",
       "  'atg_rarg_trans_dn': '',\n",
       "  'atg_rarg_trans_up': '',\n",
       "  'atg_rore_cis_dn': '',\n",
       "  'atg_rore_cis_up': '',\n",
       "  'atg_rorb_trans_dn': '',\n",
       "  'atg_rorg_trans_dn': '',\n",
       "  'atg_rorg_trans_up': '',\n",
       "  'atg_rxra_trans_dn': '',\n",
       "  'atg_rxra_trans_up': '',\n",
       "  'atg_rxrb_trans_dn': '',\n",
       "  'atg_rxrb_trans_up': '',\n",
       "  'atg_srebp_cis_dn': '',\n",
       "  'atg_srebp_cis_up': '',\n",
       "  'atg_stat3_cis_dn': '',\n",
       "  'atg_stat3_cis_up': '',\n",
       "  'atg_sox_cis_dn': '',\n",
       "  'atg_sox_cis_up': '',\n",
       "  'atg_sp1_cis_dn': '',\n",
       "  'atg_sp1_cis_up': '',\n",
       "  'atg_tal_cis_dn': '',\n",
       "  'atg_tal_cis_up': '',\n",
       "  'atg_ta_cis_dn': '',\n",
       "  'atg_ta_cis_up': '',\n",
       "  'atg_tcf_b_cat_cis_dn': '',\n",
       "  'atg_tcf_b_cat_cis_up': '',\n",
       "  'atg_tgfb_cis_dn': '',\n",
       "  'atg_tgfb_cis_up': '',\n",
       "  'atg_thra1_trans_dn': '',\n",
       "  'atg_thra1_trans_up': '',\n",
       "  'atg_vdre_cis_dn': '',\n",
       "  'atg_vdre_cis_up': '',\n",
       "  'atg_vdr_trans_dn': '',\n",
       "  'atg_vdr_trans_up': '',\n",
       "  'atg_xtt_cytotoxicity_up': '',\n",
       "  'atg_xbp1_cis_dn': '',\n",
       "  'atg_xbp1_cis_up': '',\n",
       "  'atg_p53_cis_dn': '',\n",
       "  'atg_p53_cis_up': '',\n",
       "  'bsk_3c_eselectin_down': '',\n",
       "  'bsk_3c_hladr_down': '',\n",
       "  'bsk_3c_icam1_down': '',\n",
       "  'bsk_3c_il8_down': '',\n",
       "  'bsk_3c_mcp1_down': '',\n",
       "  'bsk_3c_mig_down': '',\n",
       "  'bsk_3c_proliferation_down': '',\n",
       "  'bsk_3c_srb_down': '',\n",
       "  'bsk_3c_thrombomodulin_down': '',\n",
       "  'bsk_3c_thrombomodulin_up': '',\n",
       "  'bsk_3c_tissuefactor_down': '',\n",
       "  'bsk_3c_tissuefactor_up': '',\n",
       "  'bsk_3c_vcam1_down': '',\n",
       "  'bsk_3c_vis_down': '',\n",
       "  'bsk_3c_upar_down': '',\n",
       "  'bsk_4h_eotaxin3_down': '',\n",
       "  'bsk_4h_mcp1_down': '',\n",
       "  'bsk_4h_pselectin_down': '',\n",
       "  'bsk_4h_pselectin_up': '',\n",
       "  'bsk_4h_srb_down': '',\n",
       "  'bsk_4h_vcam1_down': '',\n",
       "  'bsk_4h_vegfrii_down': '',\n",
       "  'bsk_4h_upar_down': '',\n",
       "  'bsk_4h_upar_up': '',\n",
       "  'bsk_be3c_hladr_down': '',\n",
       "  'bsk_be3c_il1a_down': '',\n",
       "  'bsk_be3c_ip10_down': '',\n",
       "  'bsk_be3c_mig_down': '',\n",
       "  'bsk_be3c_mmp1_down': '',\n",
       "  'bsk_be3c_mmp1_up': '',\n",
       "  'bsk_be3c_pai1_down': '',\n",
       "  'bsk_be3c_srb_down': '',\n",
       "  'bsk_be3c_tgfb1_down': '',\n",
       "  'bsk_be3c_tpa_down': '',\n",
       "  'bsk_be3c_upar_down': '',\n",
       "  'bsk_be3c_upar_up': '',\n",
       "  'bsk_be3c_upa_down': '',\n",
       "  'bsk_casm3c_hladr_down': '',\n",
       "  'bsk_casm3c_il6_down': '',\n",
       "  'bsk_casm3c_il6_up': '',\n",
       "  'bsk_casm3c_il8_down': '',\n",
       "  'bsk_casm3c_ldlr_down': '',\n",
       "  'bsk_casm3c_ldlr_up': '',\n",
       "  'bsk_casm3c_mcp1_down': '',\n",
       "  'bsk_casm3c_mcp1_up': '',\n",
       "  'bsk_casm3c_mcsf_down': '',\n",
       "  'bsk_casm3c_mcsf_up': '',\n",
       "  'bsk_casm3c_mig_down': '',\n",
       "  'bsk_casm3c_proliferation_down': '',\n",
       "  'bsk_casm3c_proliferation_up': '',\n",
       "  'bsk_casm3c_saa_down': '',\n",
       "  'bsk_casm3c_saa_up': '',\n",
       "  'bsk_casm3c_srb_down': '',\n",
       "  'bsk_casm3c_thrombomodulin_down': '',\n",
       "  'bsk_casm3c_thrombomodulin_up': '',\n",
       "  'bsk_casm3c_tissuefactor_down': '',\n",
       "  'bsk_casm3c_vcam1_down': '',\n",
       "  'bsk_casm3c_vcam1_up': '',\n",
       "  'bsk_casm3c_upar_down': '',\n",
       "  'bsk_casm3c_upar_up': '',\n",
       "  'bsk_kf3ct_icam1_down': '',\n",
       "  'bsk_kf3ct_il1a_down': '',\n",
       "  'bsk_kf3ct_ip10_down': '',\n",
       "  'bsk_kf3ct_ip10_up': '',\n",
       "  'bsk_kf3ct_mcp1_down': '',\n",
       "  'bsk_kf3ct_mcp1_up': '',\n",
       "  'bsk_kf3ct_mmp9_down': '',\n",
       "  'bsk_kf3ct_srb_down': '',\n",
       "  'bsk_kf3ct_tgfb1_down': '',\n",
       "  'bsk_kf3ct_timp2_down': '',\n",
       "  'bsk_kf3ct_upa_down': '',\n",
       "  'bsk_lps_cd40_down': '',\n",
       "  'bsk_lps_eselectin_down': '',\n",
       "  'bsk_lps_eselectin_up': '',\n",
       "  'bsk_lps_il1a_down': '',\n",
       "  'bsk_lps_il1a_up': '',\n",
       "  'bsk_lps_il8_down': '',\n",
       "  'bsk_lps_il8_up': '',\n",
       "  'bsk_lps_mcp1_down': '',\n",
       "  'bsk_lps_mcsf_down': '',\n",
       "  'bsk_lps_pge2_down': '',\n",
       "  'bsk_lps_pge2_up': '',\n",
       "  'bsk_lps_srb_down': '',\n",
       "  'bsk_lps_tnfa_down': '',\n",
       "  'bsk_lps_tnfa_up': '',\n",
       "  'bsk_lps_tissuefactor_down': '',\n",
       "  'bsk_lps_tissuefactor_up': '',\n",
       "  'bsk_lps_vcam1_down': '',\n",
       "  'bsk_sag_cd38_down': '',\n",
       "  'bsk_sag_cd40_down': '',\n",
       "  'bsk_sag_cd69_down': '',\n",
       "  'bsk_sag_eselectin_down': '',\n",
       "  'bsk_sag_eselectin_up': '',\n",
       "  'bsk_sag_il8_down': '',\n",
       "  'bsk_sag_il8_up': '',\n",
       "  'bsk_sag_mcp1_down': '',\n",
       "  'bsk_sag_mig_down': '',\n",
       "  'bsk_sag_pbmccytotoxicity_down': '',\n",
       "  'bsk_sag_pbmccytotoxicity_up': '',\n",
       "  'bsk_sag_proliferation_down': '',\n",
       "  'bsk_sag_srb_down': '',\n",
       "  'bsk_hdfcgf_collageniii_down': '',\n",
       "  'bsk_hdfcgf_egfr_down': '',\n",
       "  'bsk_hdfcgf_egfr_up': '',\n",
       "  'bsk_hdfcgf_il8_down': '',\n",
       "  'bsk_hdfcgf_ip10_down': '',\n",
       "  'bsk_hdfcgf_mcsf_down': '',\n",
       "  'bsk_hdfcgf_mig_down': '',\n",
       "  'bsk_hdfcgf_mmp1_down': '',\n",
       "  'bsk_hdfcgf_mmp1_up': '',\n",
       "  'bsk_hdfcgf_pai1_down': '',\n",
       "  'bsk_hdfcgf_proliferation_down': '',\n",
       "  'bsk_hdfcgf_srb_down': '',\n",
       "  'bsk_hdfcgf_timp1_down': '',\n",
       "  'bsk_hdfcgf_vcam1_down': '',\n",
       "  'ceetox_h295r_11dcort_dn': '',\n",
       "  'ceetox_h295r_andr_dn': '',\n",
       "  'ceetox_h295r_cortisol_dn': '',\n",
       "  'ceetox_h295r_doc_dn': '',\n",
       "  'ceetox_h295r_doc_up': '',\n",
       "  'ceetox_h295r_estradiol_dn': '',\n",
       "  'ceetox_h295r_estradiol_up': '',\n",
       "  'ceetox_h295r_estrone_dn': '',\n",
       "  'ceetox_h295r_estrone_up': '',\n",
       "  'ceetox_h295r_ohpreg_up': '',\n",
       "  'ceetox_h295r_ohprog_dn': '',\n",
       "  'ceetox_h295r_ohprog_up': '',\n",
       "  'ceetox_h295r_prog_up': '',\n",
       "  'ceetox_h295r_testo_dn': '',\n",
       "  'cld_abcb1_48hr': '',\n",
       "  'cld_abcg2_48hr': '',\n",
       "  'cld_cyp1a1_24hr': '',\n",
       "  'cld_cyp1a1_48hr': '',\n",
       "  'cld_cyp1a1_6hr': '',\n",
       "  'cld_cyp1a2_24hr': '',\n",
       "  'cld_cyp1a2_48hr': '',\n",
       "  'cld_cyp1a2_6hr': '',\n",
       "  'cld_cyp2b6_24hr': '',\n",
       "  'cld_cyp2b6_48hr': '',\n",
       "  'cld_cyp2b6_6hr': '',\n",
       "  'cld_cyp3a4_24hr': '',\n",
       "  'cld_cyp3a4_48hr': '',\n",
       "  'cld_cyp3a4_6hr': '',\n",
       "  'cld_gsta2_48hr': '',\n",
       "  'cld_sult2a_24hr': '',\n",
       "  'cld_sult2a_48hr': '',\n",
       "  'cld_ugt1a1_24hr': '',\n",
       "  'cld_ugt1a1_48hr': '',\n",
       "  'ncct_hek293t_celltiterglo': '',\n",
       "  'ncct_quantilum_inhib_2_dn': '',\n",
       "  'ncct_quantilum_inhib_dn': '',\n",
       "  'ncct_tpo_aur_dn': '',\n",
       "  'ncct_tpo_gua_dn': '',\n",
       "  'nheerl_zf_144hpf_teratoscore_up': '',\n",
       "  'nvs_adme_hcyp19a1': '',\n",
       "  'nvs_adme_hcyp1a1': '',\n",
       "  'nvs_adme_hcyp1a2': '',\n",
       "  'nvs_adme_hcyp2a6': '',\n",
       "  'nvs_adme_hcyp2b6': '',\n",
       "  'nvs_adme_hcyp2c19': '',\n",
       "  'nvs_adme_hcyp2c9': '',\n",
       "  'nvs_adme_hcyp2d6': '',\n",
       "  'nvs_adme_hcyp3a4': '',\n",
       "  'nvs_adme_hcyp4f12': '',\n",
       "  'nvs_adme_rcyp2c12': '',\n",
       "  'nvs_enz_hache': '',\n",
       "  'nvs_enz_hampka1': '',\n",
       "  'nvs_enz_haura': '',\n",
       "  'nvs_enz_hbace': '',\n",
       "  'nvs_enz_hcasp5': '',\n",
       "  'nvs_enz_hck1d': '',\n",
       "  'nvs_enz_hdusp3': '',\n",
       "  'nvs_enz_hes': '',\n",
       "  'nvs_enz_helastase': '',\n",
       "  'nvs_enz_hfgfr1': '',\n",
       "  'nvs_enz_hgsk3b': '',\n",
       "  'nvs_enz_hmmp1': '',\n",
       "  'nvs_enz_hmmp13': '',\n",
       "  'nvs_enz_hmmp2': '',\n",
       "  'nvs_enz_hmmp3': '',\n",
       "  'nvs_enz_hmmp7': '',\n",
       "  'nvs_enz_hmmp9': '',\n",
       "  'nvs_enz_hpde10': '',\n",
       "  'nvs_enz_hpde4a1': '',\n",
       "  'nvs_enz_hpde5': '',\n",
       "  'nvs_enz_hpi3ka': '',\n",
       "  'nvs_enz_hpten': '',\n",
       "  'nvs_enz_hptpn11': '',\n",
       "  'nvs_enz_hptpn12': '',\n",
       "  'nvs_enz_hptpn13': '',\n",
       "  'nvs_enz_hptpn9': '',\n",
       "  'nvs_enz_hptprc': '',\n",
       "  'nvs_enz_hsirt1': '',\n",
       "  'nvs_enz_hsirt2': '',\n",
       "  'nvs_enz_htrka': '',\n",
       "  'nvs_enz_hvegfr2': '',\n",
       "  'nvs_enz_ocox1': '',\n",
       "  'nvs_enz_ocox2': '',\n",
       "  'nvs_enz_rache': '',\n",
       "  'nvs_enz_rcnos': '',\n",
       "  'nvs_enz_rmaoac': '',\n",
       "  'nvs_enz_rmaoap': '',\n",
       "  'nvs_enz_rmaobc': '',\n",
       "  'nvs_enz_rmaobp': '',\n",
       "  'nvs_enz_rabi2c': '',\n",
       "  'nvs_gpcr_bador_nonselective': '',\n",
       "  'nvs_gpcr_bdr_nonselective': '',\n",
       "  'nvs_gpcr_g5ht4': '',\n",
       "  'nvs_gpcr_gh2': '',\n",
       "  'nvs_gpcr_gltb4': '',\n",
       "  'nvs_gpcr_gltd4': '',\n",
       "  'nvs_gpcr_gmperipheral_nonselective': '',\n",
       "  'nvs_gpcr_gopiatek': '',\n",
       "  'nvs_gpcr_h5ht2a': '',\n",
       "  'nvs_gpcr_h5ht5a': '',\n",
       "  'nvs_gpcr_h5ht6': '',\n",
       "  'nvs_gpcr_h5ht7': '',\n",
       "  'nvs_gpcr_hat1': '',\n",
       "  'nvs_gpcr_hadora1': '',\n",
       "  'nvs_gpcr_hadora2a': '',\n",
       "  'nvs_gpcr_hadra2a': '',\n",
       "  'nvs_gpcr_hadra2c': '',\n",
       "  'nvs_gpcr_hadrb1': '',\n",
       "  'nvs_gpcr_hadrb2': '',\n",
       "  'nvs_gpcr_hadrb3': '',\n",
       "  'nvs_gpcr_hdrd1': '',\n",
       "  'nvs_gpcr_hdrd2s': '',\n",
       "  'nvs_gpcr_hdrd4.4': '',\n",
       "  'nvs_gpcr_hh1': '',\n",
       "  'nvs_gpcr_hltb4_blt1': '',\n",
       "  'nvs_gpcr_hm1': '',\n",
       "  'nvs_gpcr_hm2': '',\n",
       "  'nvs_gpcr_hm3': '',\n",
       "  'nvs_gpcr_hm4': '',\n",
       "  'nvs_gpcr_hnk2': '',\n",
       "  'nvs_gpcr_hopiate_d1': '',\n",
       "  'nvs_gpcr_hopiate_mu': '',\n",
       "  'nvs_gpcr_htxa2': '',\n",
       "  'nvs_gpcr_p5ht2c': '',\n",
       "  'nvs_gpcr_r5ht1_nonselective': '',\n",
       "  'nvs_gpcr_r5ht_nonselective': '',\n",
       "  'nvs_gpcr_radra1b': '',\n",
       "  'nvs_gpcr_radra1_nonselective': '',\n",
       "  'nvs_gpcr_radra2_nonselective': '',\n",
       "  'nvs_gpcr_radrb_nonselective': '',\n",
       "  'nvs_gpcr_rnk1': '',\n",
       "  'nvs_gpcr_rnk3': '',\n",
       "  'nvs_gpcr_ropiate_nonselective': '',\n",
       "  'nvs_gpcr_ropiate_nonselectivena': '',\n",
       "  'nvs_gpcr_rsst': '',\n",
       "  'nvs_gpcr_rtrh': '',\n",
       "  'nvs_gpcr_rv1': '',\n",
       "  'nvs_gpcr_rabpaf': '',\n",
       "  'nvs_gpcr_rmadra2b': '',\n",
       "  'nvs_ic_hkhergch': '',\n",
       "  'nvs_ic_rcabtzchl': '',\n",
       "  'nvs_ic_rcadhprch_l': '',\n",
       "  'nvs_ic_rnach_site2': '',\n",
       "  'nvs_lgic_bgabara1': '',\n",
       "  'nvs_lgic_h5ht3': '',\n",
       "  'nvs_lgic_hnnr_nbungsens': '',\n",
       "  'nvs_lgic_rgabar_nonselective': '',\n",
       "  'nvs_lgic_rnnr_bungsens': '',\n",
       "  'nvs_mp_hpbr': '',\n",
       "  'nvs_mp_rpbr': '',\n",
       "  'nvs_nr_ber': '',\n",
       "  'nvs_nr_bpr': '',\n",
       "  'nvs_nr_car': '',\n",
       "  'nvs_nr_har': '',\n",
       "  'nvs_nr_hcar_antagonist': '',\n",
       "  'nvs_nr_her': '',\n",
       "  'nvs_nr_hfxr_agonist': '',\n",
       "  'nvs_nr_hfxr_antagonist': '',\n",
       "  'nvs_nr_hgr': '',\n",
       "  'nvs_nr_hppara': '',\n",
       "  'nvs_nr_hpparg': '',\n",
       "  'nvs_nr_hpr': '',\n",
       "  'nvs_nr_hpxr': '',\n",
       "  'nvs_nr_hrar_antagonist': '',\n",
       "  'nvs_nr_hrara_agonist': '',\n",
       "  'nvs_nr_htra_antagonist': '',\n",
       "  'nvs_nr_mera': '',\n",
       "  'nvs_nr_rar': '',\n",
       "  'nvs_nr_rmr': '',\n",
       "  'nvs_or_gsigma_nonselective': '',\n",
       "  'nvs_tr_gdat': '',\n",
       "  'nvs_tr_hadot': '',\n",
       "  'nvs_tr_hdat': '',\n",
       "  'nvs_tr_hnet': '',\n",
       "  'nvs_tr_hsert': '',\n",
       "  'nvs_tr_rnet': '',\n",
       "  'nvs_tr_rsert': '',\n",
       "  'nvs_tr_rvmat2': '',\n",
       "  'ot_ar_areluc_ag_1440': '',\n",
       "  'ot_ar_arsrc1_0480': '',\n",
       "  'ot_ar_arsrc1_0960': '',\n",
       "  'ot_er_eraera_0480': '',\n",
       "  'ot_er_eraera_1440': '',\n",
       "  'ot_er_eraerb_0480': '',\n",
       "  'ot_er_eraerb_1440': '',\n",
       "  'ot_er_erberb_0480': '',\n",
       "  'ot_er_erberb_1440': '',\n",
       "  'ot_era_eregfp_0120': '',\n",
       "  'ot_era_eregfp_0480': '',\n",
       "  'ot_fxr_fxrsrc1_0480': '',\n",
       "  'ot_fxr_fxrsrc1_1440': '',\n",
       "  'ot_nurr1_nurr1rxra_0480': '',\n",
       "  'ot_nurr1_nurr1rxra_1440': '',\n",
       "  'tox21_are_bla_agonist_ch1': 0.0,\n",
       "  'tox21_are_bla_agonist_ch2': 0.0,\n",
       "  'tox21_are_bla_agonist_ratio': 1.0,\n",
       "  'tox21_are_bla_agonist_viability': 0.0,\n",
       "  'tox21_ar_bla_agonist_ch1': 0.0,\n",
       "  'tox21_ar_bla_agonist_ch2': 0.0,\n",
       "  'tox21_ar_bla_agonist_ratio': 0.0,\n",
       "  'tox21_ar_bla_antagonist_ch1': 0.0,\n",
       "  'tox21_ar_bla_antagonist_ch2': 0.0,\n",
       "  'tox21_ar_bla_antagonist_ratio': 1.0,\n",
       "  'tox21_ar_bla_antagonist_viability': 1.0,\n",
       "  'tox21_ar_luc_mdakb2_agonist': 0.0,\n",
       "  'tox21_ar_luc_mdakb2_antagonist': 1.0,\n",
       "  'tox21_ar_luc_mdakb2_antagonist2': 1.0,\n",
       "  'tox21_ahr_luc_agonist': 0.0,\n",
       "  'tox21_aromatase_inhibition': 1.0,\n",
       "  'tox21_autofluor_hek293_cell_blue': 0.0,\n",
       "  'tox21_autofluor_hek293_media_blue': 0.0,\n",
       "  'tox21_autofluor_hepg2_cell_blue': 0.0,\n",
       "  'tox21_autofluor_hepg2_cell_green': 0.0,\n",
       "  'tox21_autofluor_hepg2_media_blue': 0.0,\n",
       "  'tox21_autofluor_hepg2_media_green': 0.0,\n",
       "  'tox21_elg1_luc_agonist': '',\n",
       "  'tox21_era_bla_agonist_ch1': 0.0,\n",
       "  'tox21_era_bla_agonist_ch2': 0.0,\n",
       "  'tox21_era_bla_agonist_ratio': 0.0,\n",
       "  'tox21_era_bla_antagonist_ch1': 0.0,\n",
       "  'tox21_era_bla_antagonist_ch2': 0.0,\n",
       "  'tox21_era_bla_antagonist_ratio': 0.0,\n",
       "  'tox21_era_bla_antagonist_viability': 0.0,\n",
       "  'tox21_era_luc_bg1_agonist': 0.0,\n",
       "  'tox21_era_luc_bg1_antagonist': 0.0,\n",
       "  'tox21_esre_bla_ch1': 0.0,\n",
       "  'tox21_esre_bla_ch2': 0.0,\n",
       "  'tox21_esre_bla_ratio': 0.0,\n",
       "  'tox21_esre_bla_viability': 0.0,\n",
       "  'tox21_fxr_bla_antagonist_ch1': 1.0,\n",
       "  'tox21_fxr_bla_antagonist_ch2': 0.0,\n",
       "  'tox21_fxr_bla_agonist_ch2': 0.0,\n",
       "  'tox21_fxr_bla_agonist_ratio': 0.0,\n",
       "  'tox21_fxr_bla_antagonist_ratio': 1.0,\n",
       "  'tox21_fxr_bla_antagonist_viability': 0.0,\n",
       "  'tox21_gr_bla_agonist_ch1': 0.0,\n",
       "  'tox21_gr_bla_agonist_ch2': 0.0,\n",
       "  'tox21_gr_bla_agonist_ratio': 0.0,\n",
       "  'tox21_gr_bla_antagonist_ch2': 0.0,\n",
       "  'tox21_gr_bla_antagonist_ratio': 0.0,\n",
       "  'tox21_gr_bla_antagonist_viability': 0.0,\n",
       "  'tox21_hse_bla_agonist_ch1': 0.0,\n",
       "  'tox21_hse_bla_agonist_ch2': 1.0,\n",
       "  'tox21_hse_bla_agonist_ratio': 0.0,\n",
       "  'tox21_hse_bla_agonist_viability': 0.0,\n",
       "  'tox21_mmp_ratio_down': '',\n",
       "  'tox21_mmp_ratio_up': '',\n",
       "  'tox21_mmp_viability': '',\n",
       "  'tox21_nfkb_bla_agonist_ch1': 0.0,\n",
       "  'tox21_nfkb_bla_agonist_ch2': 0.0,\n",
       "  'tox21_nfkb_bla_agonist_ratio': 0.0,\n",
       "  'tox21_nfkb_bla_agonist_viability': 1.0,\n",
       "  'tox21_ppard_bla_agonist_viability': 1.0,\n",
       "  'tox21_ppard_bla_antagonist_ch1': 0.0,\n",
       "  'tox21_ppard_bla_agonist_ch1': 0.0,\n",
       "  'tox21_ppard_bla_agonist_ch2': 0.0,\n",
       "  'tox21_ppard_bla_agonist_ratio': 0.0,\n",
       "  'tox21_ppard_bla_antagonist_ratio': 1.0,\n",
       "  'tox21_ppard_bla_antagonist_viability': 0.0,\n",
       "  'tox21_pparg_bla_agonist_ch1': 0.0,\n",
       "  'tox21_pparg_bla_agonist_ch2': 0.0,\n",
       "  'tox21_pparg_bla_agonist_ratio': 0.0,\n",
       "  'tox21_pparg_bla_antagonist_ch1': 0.0,\n",
       "  'tox21_pparg_bla_antagonist_ratio': 0.0,\n",
       "  'tox21_pparg_bla_antagonist_viability': 0.0,\n",
       "  'tox21_tr_luc_gh3_agonist': 0.0,\n",
       "  'tox21_tr_luc_gh3_antagonist': 1.0,\n",
       "  'tox21_vdr_bla_agonist_viability': 1.0,\n",
       "  'tox21_vdr_bla_antagonist_ch1': 0.0,\n",
       "  'tox21_vdr_bla_agonist_ch2': 0.0,\n",
       "  'tox21_vdr_bla_agonist_ratio': 0.0,\n",
       "  'tox21_vdr_bla_antagonist_ratio': 0.0,\n",
       "  'tox21_vdr_bla_antagonist_viability': 0.0,\n",
       "  'tox21_p53_bla_p1_ch1': 0.0,\n",
       "  'tox21_p53_bla_p1_ch2': 1.0,\n",
       "  'tox21_p53_bla_p1_ratio': 0.0,\n",
       "  'tox21_p53_bla_p1_viability': 0.0,\n",
       "  'tox21_p53_bla_p2_ch1': 0.0,\n",
       "  'tox21_p53_bla_p2_ch2': 0.0,\n",
       "  'tox21_p53_bla_p2_ratio': 0.0,\n",
       "  'tox21_p53_bla_p2_viability': 0.0,\n",
       "  'tox21_p53_bla_p3_ch1': 0.0,\n",
       "  'tox21_p53_bla_p3_ch2': 0.0,\n",
       "  'tox21_p53_bla_p3_ratio': 0.0,\n",
       "  'tox21_p53_bla_p3_viability': 0.0,\n",
       "  'tox21_p53_bla_p4_ch1': 0.0,\n",
       "  'tox21_p53_bla_p4_ch2': 0.0,\n",
       "  'tox21_p53_bla_p4_ratio': 0.0,\n",
       "  'tox21_p53_bla_p4_viability': 0.0,\n",
       "  'tox21_p53_bla_p5_ch1': 0.0,\n",
       "  'tox21_p53_bla_p5_ch2': 0.0,\n",
       "  'tox21_p53_bla_p5_ratio': 0.0,\n",
       "  'tox21_p53_bla_p5_viability': 0.0,\n",
       "  'tanguay_zf_120hpf_axis_up': '',\n",
       "  'tanguay_zf_120hpf_activityscore': '',\n",
       "  'tanguay_zf_120hpf_brai_up': '',\n",
       "  'tanguay_zf_120hpf_cfin_up': '',\n",
       "  'tanguay_zf_120hpf_circ_up': '',\n",
       "  'tanguay_zf_120hpf_eye_up': '',\n",
       "  'tanguay_zf_120hpf_jaw_up': '',\n",
       "  'tanguay_zf_120hpf_mort_up': '',\n",
       "  'tanguay_zf_120hpf_otic_up': '',\n",
       "  'tanguay_zf_120hpf_pe_up': '',\n",
       "  'tanguay_zf_120hpf_pfin_up': '',\n",
       "  'tanguay_zf_120hpf_pig_up': '',\n",
       "  'tanguay_zf_120hpf_snou_up': '',\n",
       "  'tanguay_zf_120hpf_somi_up': '',\n",
       "  'tanguay_zf_120hpf_swim_up': '',\n",
       "  'tanguay_zf_120hpf_trun_up': '',\n",
       "  'tanguay_zf_120hpf_tr_up': '',\n",
       "  'tanguay_zf_120hpf_yse_up': ''},\n",
       " 'charge': 0,\n",
       " 'totalconfs': 3,\n",
       " 'temperature': 300.0,\n",
       " 'uniqueconfs': 1,\n",
       " 'lowestenergy': -32.9952,\n",
       " 'poplowestpct': 100.0,\n",
       " 'ensembleenergy': 0.002,\n",
       " 'ensembleentropy': 2.183,\n",
       " 'ensemblefreeenergy': -0.655}"
      ]
     },
     "execution_count": 8,
     "metadata": {},
     "output_type": "execute_result"
    }
   ],
   "source": [
    "from rdkit import Chem\n",
    "\n",
    "sub_dic = {key: val for key, val in summary.items() if 'tox21' in val.get('datasets', [])}\n",
    "print(len(sub_dic))\n",
    "\n",
    "# an example species\n",
    "smiles = 'Cc1ccc(O)c2ncccc12'\n",
    "mol = Chem.MolFromSmiles(smiles)\n",
    "display(mol)\n",
    "print(smiles)\n",
    "sub_dic[smiles]"
   ]
  },
  {
   "cell_type": "markdown",
   "metadata": {},
   "source": [
    "We see that this is a rigid molecule (only one unique conformer) with lots of toxicity data:"
   ]
  },
  {
   "cell_type": "code",
   "execution_count": 9,
   "metadata": {},
   "outputs": [
    {
     "name": "stdout",
     "output_type": "stream",
     "text": [
      "9\n",
      "96\n"
     ]
    }
   ],
   "source": [
    "tox21_dic = sub_dic[smiles]['tox21']\n",
    "toxcast_dic = sub_dic[smiles]['toxcast']\n",
    "\n",
    "tox21_avail_keys = [key for key, val in tox21_dic.items()\n",
    "                   if val != '']\n",
    "toxcast_avail_keys = [key for key, val in toxcast_dic.items()\n",
    "                   if val != '']\n",
    "\n",
    "print(len(tox21_avail_keys))\n",
    "print(len(toxcast_avail_keys))"
   ]
  },
  {
   "cell_type": "markdown",
   "metadata": {},
   "source": [
    "Now let's load all the conformers from species with `esol` properties and see if we can predict any:\n"
   ]
  },
  {
   "cell_type": "code",
   "execution_count": 10,
   "metadata": {},
   "outputs": [
    {
     "name": "stderr",
     "output_type": "stream",
     "text": [
      "100%|██████████████████████████████████████████████████████████████████████████████████████████████| 1069/1069 [00:58<00:00, 18.12it/s]\n"
     ]
    }
   ],
   "source": [
    "import pickle\n",
    "from tqdm import tqdm\n",
    "\n",
    "esol_dic = {key: val for key, val in summary.items() if 'esol' in val.get('datasets', [])}\n",
    "overall_dict = {}\n",
    "\n",
    "for key in tqdm(esol_dic.keys()):\n",
    "    val = esol_dic[key]\n",
    "    pickle_path = os.path.join(molecule_net_path, val['pickle_path'])\n",
    "    with open(pickle_path, 'rb') as f:\n",
    "        conf_dic = pickle.load(f)\n",
    "    overall_dict[key] = conf_dic"
   ]
  },
  {
   "cell_type": "markdown",
   "metadata": {},
   "source": [
    "Let's see if we can correlate any conformer properties with the experimental water solubility. First we'll get the conformers' WHIM vectors (either of the highest-weight conformer, or statistically averaged):"
   ]
  },
  {
   "cell_type": "code",
   "execution_count": 11,
   "metadata": {},
   "outputs": [
    {
     "name": "stderr",
     "output_type": "stream",
     "text": [
      "100%|██████████████████████████████████████████████████████████████████████████████████████████████| 1069/1069 [00:15<00:00, 67.51it/s]\n"
     ]
    }
   ],
   "source": [
    "import numpy as np\n",
    "from rdkit.Chem.rdMolDescriptors import CalcWHIM\n",
    "\n",
    "\n",
    "mean_whims = []\n",
    "highest_prob_whims = []\n",
    "exp_vals = []\n",
    "\n",
    "for dic in tqdm(overall_dict.values()):\n",
    "    \n",
    "    exp_val = dic['esol'][\"logsolubility\"]\n",
    "    if exp_val == '':\n",
    "        continue\n",
    "    \n",
    "    confs = dic['conformers']\n",
    "    valid_idx = [i for i, conf in enumerate(confs) if \n",
    "                'boltzmannweight' in conf]\n",
    "    \n",
    "    whims = np.array([CalcWHIM(confs[i]['rd_mol']) for i in valid_idx])\n",
    "    weights = np.array([confs[i]['boltzmannweight'] for i in valid_idx])\n",
    "    highest_prob_whim = whims[np.argmax(weights)]\n",
    "    \n",
    "    # get the thermally averaged WHIM vector\n",
    "    mean_whim = (weights.reshape(-1, 1) * whims).sum(0)\n",
    "        \n",
    "    mean_whims.append(mean_whim)\n",
    "    highest_prob_whims.append(highest_prob_whim)\n",
    "    exp_vals.append(exp_val)\n",
    "    \n"
   ]
  },
  {
   "cell_type": "markdown",
   "metadata": {},
   "source": [
    "Now let's do a linear regression:"
   ]
  },
  {
   "cell_type": "code",
   "execution_count": 12,
   "metadata": {},
   "outputs": [
    {
     "name": "stdout",
     "output_type": "stream",
     "text": [
      "Highest probability WHIM: R^2 = 0.69\n"
     ]
    },
    {
     "data": {
      "image/png": "[encoded data removed]",
      "text/plain": [
       "<Figure size 432x288 with 1 Axes>"
      ]
     },
     "metadata": {
      "needs_background": "light"
     },
     "output_type": "display_data"
    },
    {
     "name": "stdout",
     "output_type": "stream",
     "text": [
      "Statistically averaged WHIM: R^2 = 0.71\n"
     ]
    },
    {
     "data": {
      "image/png": "[encoded data removed]",
      "text/plain": [
       "<Figure size 432x288 with 1 Axes>"
      ]
     },
     "metadata": {
      "needs_background": "light"
     },
     "output_type": "display_data"
    }
   ],
   "source": [
    "from matplotlib import pyplot as plt\n",
    "from sklearn.linear_model import LinearRegression\n",
    "from sklearn.preprocessing import StandardScaler as Scaler\n",
    "from sklearn.metrics import r2_score\n",
    "from matplotlib import rcParams\n",
    "\n",
    "# standardize whim and experimental data, and do a linear regression\n",
    "\n",
    "exp_vals = np.array(exp_vals).reshape(-1, 1)\n",
    "mean_whims = np.array(mean_whims)\n",
    "highest_prob_whims = np.array(highest_prob_whims)\n",
    "\n",
    "exp_scaler = Scaler().fit(exp_vals)\n",
    "whim_scaler = Scaler().fit(mean_whims)\n",
    "highest_whim_scaler = Scaler().fit(highest_prob_whims)\n",
    "\n",
    "\n",
    "inp_dic = {\"Highest probability WHIM\": {\"whim\": highest_prob_whims,\n",
    "                                        \"scaler\": highest_whim_scaler},\n",
    "           \"Statistically averaged WHIM\": {\"whim\": mean_whims,\n",
    "                                           \"scaler\": whim_scaler}}\n",
    "\n",
    "for key, sub_dic in inp_dic.items():\n",
    "        \n",
    "    whim = sub_dic['whim']\n",
    "    scaler = sub_dic['scaler']\n",
    "    \n",
    "    inp = scaler.transform(whim)\n",
    "    output = exp_scaler.transform(exp_vals)\n",
    "    \n",
    "    reg = LinearRegression().fit(inp, output)        \n",
    "    \n",
    "    pred = ((reg.predict(inp)) * exp_scaler.scale_ \n",
    "            + exp_scaler.mean_).reshape(-1)\n",
    "    r2 = r2_score(pred, exp_vals)\n",
    "    \n",
    "    print(f\"{key}: R^2 = %.2f\" % r2)\n",
    "    \n",
    "    rcParams.update({\"font.size\": 14})\n",
    "    \n",
    "    plt.hexbin(pred, exp_vals.reshape(-1), mincnt=1)\n",
    "    plt.xlabel(\"Predicted log solubility\")\n",
    "    plt.ylabel(\"Experimental log solubility\")\n",
    "    plt.plot(exp_vals, exp_vals, '--')\n",
    "    plt.show()"
   ]
  },
  {
   "cell_type": "markdown",
   "metadata": {},
   "source": [
    "We see that WHIM is actually a very good descriptor for predicting the solubility. We get an $R^2$ value $>0.76$ using only a linear regression! Interestingly, the results are essentially the same whether you average WHIM over all conformers or just use the highest-probability one.\n"
   ]
  },
  {
   "cell_type": "markdown",
   "metadata": {},
   "source": [
    "## BACE in water with CREST and CENSO\n",
    "\n",
    "### Comparing the ensembles"
   ]
  },
  {
   "cell_type": "markdown",
   "metadata": {},
   "source": [
    "Now let's compare data generated with different levels of theory. In particular we'll look at the BACE dataset, for which we have CREST data in vacuum (from the `molecule_net` folder), CREST data in water (from `bace_water`), and refined DFT ensembles in water (`censo`).\n",
    "\n",
    "In the `comparing_ensembles` tutorial we'll see how various properties of the ensembles can be compared. For now we'll just load a few examples and compare them qualitatively. Let's start by finding a flexible molecule that inhibits BACE, using `summary.json` as usual:"
   ]
  },
  {
   "cell_type": "code",
   "execution_count": 13,
   "metadata": {},
   "outputs": [
    {
     "name": "stdout",
     "output_type": "stream",
     "text": [
      "1511 molecules in the CREST dataset\n",
      "1226 molecules in the CENSO dataset\n",
      "1226 molecules in common\n"
     ]
    }
   ],
   "source": [
    "# change to your `bace_water` path:\n",
    "\n",
    "bace_water_path = '/home/saxelrod/rgb_nfs/GEOM/data_after_reviews/bace_water'\n",
    "crest_summary_path = os.path.join(bace_water_path, 'summary.json')\n",
    "\n",
    "with open(crest_summary_path, 'r') as f:\n",
    "    crest_summary = json.load(f)\n",
    "\n",
    "print(f\"{len(crest_summary)} molecules in the CREST dataset\")\n",
    "\n",
    "# change to your `censo` path:\n",
    "bace_censo_path = '/home/saxelrod/rgb_nfs/GEOM/data_after_reviews/censo'\n",
    "censo_summary_path = os.path.join(bace_censo_path, 'summary.json')\n",
    "\n",
    "with open(censo_summary_path, 'r') as f:\n",
    "    censo_summary = json.load(f)\n",
    "\n",
    "print(f\"{len(censo_summary)} molecules in the CENSO dataset\")\n",
    "\n",
    "smiles_in_common = [i for i in censo_summary.keys() if i in \n",
    "                   crest_summary]\n",
    "\n",
    "print(f\"{len(smiles_in_common)} molecules in common\")\n"
   ]
  },
  {
   "cell_type": "code",
   "execution_count": 14,
   "metadata": {},
   "outputs": [
    {
     "name": "stdout",
     "output_type": "stream",
     "text": [
      "105\n",
      "SMILES: CCc1cc(CC2CS(=O)(=O)CC([NH2+]Cc3cccc(C(C)(C)C)c3)C2O)cc(F)c1NC(=O)C[NH+](C)C\n",
      "{'class': 1.0}\n",
      "678 CREST conformers\n"
     ]
    },
    {
     "data": {
      "image/png": "[encoded data removed]",
      "text/plain": [
       "<rdkit.Chem.rdchem.Mol at 0x7fc7a2b1c030>"
      ]
     },
     "metadata": {},
     "output_type": "display_data"
    }
   ],
   "source": [
    "# find an example hit that's flexible\n",
    "\n",
    "flexible_hits = [smiles for smiles in smiles_in_common if crest_summary[smiles]['uniqueconfs'] > \n",
    "                 500 and crest_summary[smiles]['bace']['class'] == 1.0]\n",
    "\n",
    "print(len(flexible_hits))\n",
    "# smiles = flexible_hits[3]\n",
    "smiles = 'CCc1cc(CC2CS(=O)(=O)CC([NH2+]Cc3cccc(C(C)(C)C)c3)C2O)cc(F)c1NC(=O)C[NH+](C)C'\n",
    "assert smiles in flexible_hits\n",
    "\n",
    "sub_dic = crest_summary[smiles]\n",
    "print(f\"SMILES: {smiles}\")\n",
    "print(sub_dic['bace'])\n",
    "print(f\"{sub_dic['uniqueconfs']} CREST conformers\")\n",
    "display(Chem.MolFromSmiles(smiles))\n"
   ]
  },
  {
   "cell_type": "markdown",
   "metadata": {},
   "source": [
    "Now let's compare the CREST and CENSO ensembles for this molecule. First we'll load the ensembles:"
   ]
  },
  {
   "cell_type": "code",
   "execution_count": 15,
   "metadata": {},
   "outputs": [
    {
     "name": "stderr",
     "output_type": "stream",
     "text": [
      "RDKit WARNING: [17:18:52] Depickling from a version number (12.1)that is higher than our version (11.0).\n",
      "[17:18:52] Depickling from a version number (12.1)that is higher than our version (11.0).\n",
      "This probably won't work.\n",
      "RDKit WARNING: This probably won't work.\n",
      "RDKit WARNING: [17:18:52] Depickling from a version number (12.1)that is higher than our version (11.0).\n",
      "[17:18:52] Depickling from a version number (12.1)that is higher than our version (11.0).\n",
      "This probably won't work.\n",
      "RDKit WARNING: This probably won't work.\n",
      "RDKit WARNING: [17:18:52] Depickling from a version number (12.1)that is higher than our version (11.0).\n",
      "RDKit WARNING: This probably won't work.\n",
      "[17:18:52] Depickling from a version number (12.1)that is higher than our version (11.0).\n",
      "This probably won't work.\n",
      "RDKit WARNING: [17:18:52] Depickling from a version number (12.1)that is higher than our version (11.0).\n",
      "[17:18:52] Depickling from a version number (12.1)that is higher than our version (11.0).\n",
      "This probably won't work.\n",
      "RDKit WARNING: This probably won't work.\n",
      "RDKit WARNING: [17:18:52] Depickling from a version number (12.1)that is higher than our version (11.0).\n",
      "[17:18:52] Depickling from a version number (12.1)that is higher than our version (11.0).\n",
      "This probably won't work.\n",
      "RDKit WARNING: This probably won't work.\n",
      "RDKit WARNING: [17:18:52] Depickling from a version number (12.1)that is higher than our version (11.0).\n",
      "[17:18:52] Depickling from a version number (12.1)that is higher than our version (11.0).\n",
      "This probably won't work.\n",
      "RDKit WARNING: This probably won't work.\n",
      "RDKit WARNING: [17:18:52] Depickling from a version number (12.1)that is higher than our version (11.0).\n",
      "RDKit WARNING: This probably won't work.\n",
      "[17:18:52] Depickling from a version number (12.1)that is higher than our version (11.0).\n",
      "This probably won't work.\n",
      "RDKit WARNING: [17:18:52] Depickling from a version number (12.1)that is higher than our version (11.0).\n",
      "RDKit WARNING: This probably won't work.\n",
      "RDKit WARNING: [17:18:52] Depickling from a version number (12.1)that is higher than our version (11.0).\n",
      "RDKit WARNING: This probably won't work.\n",
      "RDKit WARNING: [17:18:52] Depickling from a version number (12.1)that is higher than our version (11.0).\n",
      "RDKit WARNING: This probably won't work.\n",
      "RDKit WARNING: [17:18:52] Depickling from a version number (12.1)that is higher than our version (11.0).\n",
      "RDKit WARNING: This probably won't work.\n",
      "RDKit WARNING: [17:18:52] Depickling from a version number (12.1)that is higher than our version (11.0).\n",
      "RDKit WARNING: This probably won't work.\n",
      "RDKit WARNING: [17:18:52] Depickling from a version number (12.1)that is higher than our version (11.0).\n",
      "RDKit WARNING: This probably won't work.\n",
      "RDKit WARNING: [17:18:52] Depickling from a version number (12.1)that is higher than our version (11.0).\n",
      "RDKit WARNING: This probably won't work.\n",
      "RDKit WARNING: [17:18:52] Depickling from a version number (12.1)that is higher than our version (11.0).\n",
      "RDKit WARNING: This probably won't work.\n",
      "RDKit WARNING: [17:18:52] Depickling from a version number (12.1)that is higher than our version (11.0).\n",
      "RDKit WARNING: This probably won't work.\n",
      "RDKit WARNING: [17:18:52] Depickling from a version number (12.1)that is higher than our version (11.0).\n",
      "RDKit WARNING: This probably won't work.\n",
      "RDKit WARNING: [17:18:52] Depickling from a version number (12.1)that is higher than our version (11.0).\n",
      "RDKit WARNING: This probably won't work.\n",
      "RDKit WARNING: [17:18:52] Depickling from a version number (12.1)that is higher than our version (11.0).\n",
      "RDKit WARNING: This probably won't work.\n",
      "RDKit WARNING: [17:18:52] Depickling from a version number (12.1)that is higher than our version (11.0).\n",
      "RDKit WARNING: This probably won't work.\n",
      "RDKit WARNING: [17:18:52] Depickling from a version number (12.1)that is higher than our version (11.0).\n",
      "RDKit WARNING: This probably won't work.\n",
      "RDKit WARNING: [17:18:52] Depickling from a version number (12.1)that is higher than our version (11.0).\n",
      "RDKit WARNING: This probably won't work.\n",
      "RDKit WARNING: [17:18:52] Depickling from a version number (12.1)that is higher than our version (11.0).\n",
      "RDKit WARNING: This probably won't work.\n",
      "RDKit WARNING: [17:18:52] Depickling from a version number (12.1)that is higher than our version (11.0).\n",
      "RDKit WARNING: This probably won't work.\n",
      "RDKit WARNING: [17:18:52] Depickling from a version number (12.1)that is higher than our version (11.0).\n",
      "RDKit WARNING: This probably won't work.\n",
      "RDKit WARNING: [17:18:52] Depickling from a version number (12.1)that is higher than our version (11.0).\n",
      "RDKit WARNING: This probably won't work.\n",
      "RDKit WARNING: [17:18:52] Depickling from a version number (12.1)that is higher than our version (11.0).\n",
      "RDKit WARNING: This probably won't work.\n",
      "RDKit WARNING: [17:18:52] Depickling from a version number (12.1)that is higher than our version (11.0).\n",
      "RDKit WARNING: This probably won't work.\n",
      "RDKit WARNING: [17:18:52] Depickling from a version number (12.1)that is higher than our version (11.0).\n",
      "RDKit WARNING: This probably won't work.\n",
      "RDKit WARNING: [17:18:52] Depickling from a version number (12.1)that is higher than our version (11.0).\n",
      "RDKit WARNING: This probably won't work.\n",
      "RDKit WARNING: [17:18:52] Depickling from a version number (12.1)that is higher than our version (11.0).\n",
      "RDKit WARNING: This probably won't work.\n",
      "RDKit WARNING: [17:18:52] Depickling from a version number (12.1)that is higher than our version (11.0).\n",
      "RDKit WARNING: This probably won't work.\n",
      "[17:18:52] Depickling from a version number (12.1)that is higher than our version (11.0).\n",
      "This probably won't work.\n",
      "[17:18:52] Depickling from a version number (12.1)that is higher than our version (11.0).\n",
      "This probably won't work.\n",
      "[17:18:52] Depickling from a version number (12.1)that is higher than our version (11.0).\n",
      "This probably won't work.\n",
      "[17:18:52] Depickling from a version number (12.1)that is higher than our version (11.0).\n",
      "This probably won't work.\n",
      "[17:18:52] Depickling from a version number (12.1)that is higher than our version (11.0).\n",
      "This probably won't work.\n",
      "[17:18:52] Depickling from a version number (12.1)that is higher than our version (11.0).\n",
      "This probably won't work.\n",
      "[17:18:52] Depickling from a version number (12.1)that is higher than our version (11.0).\n",
      "This probably won't work.\n",
      "[17:18:52] Depickling from a version number (12.1)that is higher than our version (11.0).\n",
      "This probably won't work.\n",
      "[17:18:52] Depickling from a version number (12.1)that is higher than our version (11.0).\n",
      "This probably won't work.\n",
      "[17:18:52] Depickling from a version number (12.1)that is higher than our version (11.0).\n",
      "This probably won't work.\n",
      "[17:18:52] Depickling from a version number (12.1)that is higher than our version (11.0).\n",
      "This probably won't work.\n",
      "[17:18:52] Depickling from a version number (12.1)that is higher than our version (11.0).\n",
      "This probably won't work.\n",
      "[17:18:52] Depickling from a version number (12.1)that is higher than our version (11.0).\n",
      "This probably won't work.\n",
      "[17:18:52] Depickling from a version number (12.1)that is higher than our version (11.0).\n",
      "This probably won't work.\n",
      "[17:18:52] Depickling from a version number (12.1)that is higher than our version (11.0).\n",
      "This probably won't work.\n",
      "[17:18:52] Depickling from a version number (12.1)that is higher than our version (11.0).\n",
      "This probably won't work.\n",
      "[17:18:52] Depickling from a version number (12.1)that is higher than our version (11.0).\n",
      "This probably won't work.\n",
      "[17:18:52] Depickling from a version number (12.1)that is higher than our version (11.0).\n",
      "This probably won't work.\n",
      "[17:18:52] Depickling from a version number (12.1)that is higher than our version (11.0).\n",
      "This probably won't work.\n",
      "[17:18:52] Depickling from a version number (12.1)that is higher than our version (11.0).\n",
      "This probably won't work.\n",
      "[17:18:52] Depickling from a version number (12.1)that is higher than our version (11.0).\n",
      "This probably won't work.\n",
      "[17:18:52] Depickling from a version number (12.1)that is higher than our version (11.0).\n",
      "This probably won't work.\n",
      "[17:18:52] Depickling from a version number (12.1)that is higher than our version (11.0).\n",
      "This probably won't work.\n",
      "[17:18:52] Depickling from a version number (12.1)that is higher than our version (11.0).\n",
      "This probably won't work.\n",
      "[17:18:52] Depickling from a version number (12.1)that is higher than our version (11.0).\n",
      "This probably won't work.\n"
     ]
    }
   ],
   "source": [
    "crest_pickle_path = os.path.join(bace_water_path,\n",
    "                                 crest_summary[smiles]['pickle_path'])\n",
    "\n",
    "censo_pickle_path = os.path.join(bace_censo_path,\n",
    "                                 censo_summary[smiles]['pickle_path'])\n",
    "\n",
    "with open(crest_pickle_path, 'rb') as f:\n",
    "    crest_dic = pickle.load(f)\n",
    "    \n",
    "with open(censo_pickle_path, 'rb') as f:\n",
    "    censo_dic = pickle.load(f)"
   ]
  },
  {
   "cell_type": "markdown",
   "metadata": {},
   "source": [
    "And then we'll compare their top 5 highest-probability conformers:"
   ]
  },
  {
   "cell_type": "code",
   "execution_count": 16,
   "metadata": {},
   "outputs": [
    {
     "data": {
      "application/vnd.jupyter.widget-view+json": {
       "model_id": "b81f8b98f3e84f408db113fb131d74e4",
       "version_major": 2,
       "version_minor": 0
      },
      "text/plain": []
     },
     "metadata": {},
     "output_type": "display_data"
    },
    {
     "name": "stdout",
     "output_type": "stream",
     "text": [
      "Crest\n",
      "Boltzmann weights: [0.49162, 0.05897, 0.04838, 0.04458, 0.03702]\n"
     ]
    },
    {
     "data": {
      "application/vnd.jupyter.widget-view+json": {
       "model_id": "654e27fff78d4ba1a75eae7a92635aa9",
       "version_major": 2,
       "version_minor": 0
      },
      "text/plain": [
       "NGLWidget(max_frame=4)"
      ]
     },
     "metadata": {},
     "output_type": "display_data"
    },
    {
     "name": "stdout",
     "output_type": "stream",
     "text": [
      "Censo\n",
      "Boltzmann weights: [0.2152, 0.08779999999999999, 0.08259999999999999, 0.0742, 0.0665]\n"
     ]
    },
    {
     "data": {
      "application/vnd.jupyter.widget-view+json": {
       "model_id": "df967debf2da4f78aafcee95d119dbf0",
       "version_major": 2,
       "version_minor": 0
      },
      "text/plain": [
       "NGLWidget(max_frame=4)"
      ]
     },
     "metadata": {},
     "output_type": "display_data"
    }
   ],
   "source": [
    "from ase import Atoms\n",
    "import nglview as nv\n",
    "\n",
    "num_sample = 5\n",
    "\n",
    "for name, dic in zip([\"Crest\", \"Censo\"], [crest_dic, censo_dic]):\n",
    "    confs = dic['conformers']\n",
    "    confs_sample = sorted(confs, key=lambda x: -x.get('boltzmannweight', -1))[:num_sample]\n",
    "    \n",
    "    rd_mols = [i['rd_mol'] for i in confs_sample]\n",
    "    weights = [i['boltzmannweight'] for i in confs_sample]\n",
    "    \n",
    "    numbers = np.array([i.GetAtomicNum() for i in rd_mols[0].GetAtoms()])\n",
    "    # ignore hydrogens\n",
    "    non_h = numbers != 1\n",
    "    numbers = numbers[non_h]\n",
    "    \n",
    "    ase_atoms = [Atoms(numbers=numbers, \n",
    "                       positions=mol.GetConformers()[0].GetPositions()[non_h])\n",
    "                for mol in rd_mols]\n",
    "    \n",
    "    print(name)\n",
    "    print(f\"Boltzmann weights: {weights}\")\n",
    "    display(nv.show_asetraj(ase_atoms))\n",
    "\n"
   ]
  },
  {
   "cell_type": "markdown",
   "metadata": {},
   "source": [
    "Interestingly, we see that the highest-probability CENSO geometries tend to be much more spherical than the CREST ones.\n",
    "\n",
    "We can also see what the CREST geometries look like when we re-rank them by single point DFT energies (i.e., like CENSO but without any further optimization):"
   ]
  },
  {
   "cell_type": "code",
   "execution_count": 17,
   "metadata": {},
   "outputs": [
    {
     "name": "stdout",
     "output_type": "stream",
     "text": [
      "Sorted \n",
      "Censo\n",
      "Boltzmann weights: [0.49162, 0.05897, 0.04838, 0.04458, 0.03702]\n"
     ]
    },
    {
     "data": {
      "application/vnd.jupyter.widget-view+json": {
       "model_id": "39c81eeb99b24469a5b9231bc5c7af24",
       "version_major": 2,
       "version_minor": 0
      },
      "text/plain": [
       "NGLWidget(max_frame=4)"
      ]
     },
     "metadata": {},
     "output_type": "display_data"
    },
    {
     "name": "stdout",
     "output_type": "stream",
     "text": [
      "Censo\n",
      "Boltzmann weights: [0.38971355 0.10744149 0.05875959 0.04510098 0.03431822]\n"
     ]
    },
    {
     "data": {
      "application/vnd.jupyter.widget-view+json": {
       "model_id": "e5be1a318a3641f4a836c515ff2decff",
       "version_major": 2,
       "version_minor": 0
      },
      "text/plain": [
       "NGLWidget(max_frame=4)"
      ]
     },
     "metadata": {},
     "output_type": "display_data"
    }
   ],
   "source": [
    "from ase import Atoms\n",
    "import nglview as nv\n",
    "\n",
    "methods = ['CREST', 'r2scan_3c_mtzvpp']\n",
    "\n",
    "num_sample = 5\n",
    "\n",
    "for method in methods:\n",
    "    \n",
    "    confs = crest_dic['conformers']\n",
    "    \n",
    "    if method == \"CREST\":\n",
    "        print(\"Sorted \")\n",
    "        confs_sample = sorted(confs, key=lambda x: -x.get('boltzmannweight', -1))[:5]\n",
    "        weights = [i['boltzmannweight'] for i in confs_sample]\n",
    "        \n",
    "    else:\n",
    "        \n",
    "        idx = np.array([i for i, conf in enumerate(confs) if method in conf])\n",
    "        energies = np.array([confs[i][method]['totalenergy'] for i in idx])\n",
    "        energies -= np.min(energies)\n",
    "        \n",
    "        \n",
    "        # kT at room temp, in atomic units\n",
    "        kt = 0.000945\n",
    "        weights = np.exp(-energies / kt)\n",
    "        weights /= weights.sum()\n",
    "        \n",
    "        argsort = np.argsort(-weights)\n",
    "        confs_sample = [confs[i] for i in argsort[:num_sample]]\n",
    "        weights = weights[argsort][:num_sample]\n",
    "        \n",
    "\n",
    "    rd_mols = [i['rd_mol'] for i in confs_sample]\n",
    "    \n",
    "    \n",
    "    numbers = np.array([i.GetAtomicNum() for i in rd_mols[0].GetAtoms()])\n",
    "    # ignore hydrogens\n",
    "    non_h = numbers != 1\n",
    "    numbers = numbers[non_h]\n",
    "    \n",
    "    ase_atoms = [Atoms(numbers=numbers, \n",
    "                       positions=mol.GetConformers()[0].GetPositions()[non_h])\n",
    "                for mol in rd_mols]\n",
    "    \n",
    "    print(name)\n",
    "    print(f\"Boltzmann weights: {weights}\")\n",
    "    display(nv.show_asetraj(ase_atoms))\n",
    "\n"
   ]
  },
  {
   "cell_type": "markdown",
   "metadata": {},
   "source": [
    "The single point re-ranking leads to some more spherical geometries entering the top 5. However, they are not nearly as spherical DFT optimized geometries. This indicates that re-ranking may not be enough to get an accurate ensemble for this molecule."
   ]
  },
  {
   "cell_type": "markdown",
   "metadata": {},
   "source": [
    "### Other DFT data\n",
    "\n",
    "Let's go through some other DFT data that is available in each pickle file. Let's look at the keys in the CENSO dictionary:"
   ]
  },
  {
   "cell_type": "code",
   "execution_count": 18,
   "metadata": {},
   "outputs": [
    {
     "data": {
      "text/plain": [
       "['rd_mol',\n",
       " 'geom_id',\n",
       " 'ExTB',\n",
       " 'Gtot',\n",
       " 'homo',\n",
       " 'lumo',\n",
       " 'part',\n",
       " 'Gsolv',\n",
       " 'GmRRHO',\n",
       " 'confnum',\n",
       " 'imgfreq',\n",
       " 'deltaExTB',\n",
       " 'deltaGtot',\n",
       " 'gcpenergy',\n",
       " 'scfenergy',\n",
       " 'multipoles',\n",
       " 'totalenergy',\n",
       " 'atomiccharges',\n",
       " 'boltzmannweight',\n",
       " 'dispersionenergy',\n",
       " 'electricdipolemomentnorm']"
      ]
     },
     "metadata": {},
     "output_type": "display_data"
    }
   ],
   "source": [
    "conf = censo_dic['conformers'][0]\n",
    "keys = list(conf.keys())\n",
    "display(keys)"
   ]
  },
  {
   "cell_type": "markdown",
   "metadata": {},
   "source": [
    "Apart from the normal keys (`rd_mol`, `geom_id`, `totalenergy`, and `boltzmannweight`), we also have some DFT-related keys. Let's go through each of them:"
   ]
  },
  {
   "cell_type": "code",
   "execution_count": 19,
   "metadata": {},
   "outputs": [
    {
     "name": "stdout",
     "output_type": "stream",
     "text": [
      "-------------------------\n",
      "Final energies\n",
      "-------------------------\n",
      "Total energy: -2094.1252984\n",
      "Gtot: -2093.5060158\n",
      "G_mRRHO: 0.6192825999996785\n",
      "Delta G: 2.11\n",
      "Boltzmann weight: 0.0060999999999999995\n",
      "\n",
      "-------------------------\n",
      "Energy contributions\n",
      "-------------------------\n",
      "GCP energy: 0.060382605\n",
      "D3 dispersion energy: -0.039893591\n",
      "SCF energy: -2094.1457877\n",
      "\n",
      "-------------------------\n",
      "Charge density properties\n",
      "-------------------------\n",
      "Dipole [-24.302677820984304, 10.570207541927202, 13.579813000483302]\n",
      "Dipole norm 29.778528470662756\n",
      "Atomic charges {\n",
      "    \"mulliken\": [\n",
      "        -0.496888,\n",
      "        -0.336388,\n",
      "        0.079383,\n",
      "        -0.300511,\n",
      "        0.132513,\n",
      "        -0.32196,\n",
      "        0.011829,\n",
      "        -0.471383,\n",
      "        0.960281,\n",
      "        -0.585555,\n",
      "        -0.587263,\n",
      "        -0.336583,\n",
      "        -0.215876,\n",
      "        -0.273253,\n",
      "        -0.241314,\n",
      "        0.058255,\n",
      "        -0.182767,\n",
      "        -0.211021,\n",
      "        -0.142058,\n",
      "        0.106901,\n",
      "        0.232506,\n",
      "        -0.608276,\n",
      "        -0.525769,\n",
      "        -0.53655,\n",
      "        -0.346228,\n",
      "        -0.139582,\n",
      "        -0.474667,\n",
      "        -0.331623,\n",
      "        0.210949,\n",
      "        -0.226297,\n",
      "        -0.039661,\n",
      "        -0.026842,\n",
      "        0.369569,\n",
      "        -0.504003,\n",
      "        -0.334555,\n",
      "        -0.206675,\n",
      "        -0.294584,\n",
      "        -0.296933,\n",
      "        0.167815,\n",
      "        0.155684,\n",
      "        0.162005,\n",
      "        0.165169,\n",
      "        0.168468,\n",
      "        0.188104,\n",
      "        0.203642,\n",
      "        0.195324,\n",
      "        0.228859,\n",
      "        0.234141,\n",
      "        0.235406,\n",
      "        0.240556,\n",
      "        0.236382,\n",
      "        0.247018,\n",
      "        0.394337,\n",
      "        0.399163,\n",
      "        0.215768,\n",
      "        0.205647,\n",
      "        0.180755,\n",
      "        0.174257,\n",
      "        0.17187,\n",
      "        0.175085,\n",
      "        0.17806,\n",
      "        0.177478,\n",
      "        0.167159,\n",
      "        0.171457,\n",
      "        0.168896,\n",
      "        0.16876,\n",
      "        0.169023,\n",
      "        0.169753,\n",
      "        0.182632,\n",
      "        0.221145,\n",
      "        0.36235,\n",
      "        0.191677,\n",
      "        0.327148,\n",
      "        0.226157,\n",
      "        0.224425,\n",
      "        0.381925,\n",
      "        0.204882,\n",
      "        0.196308,\n",
      "        0.197781,\n",
      "        0.20535,\n",
      "        0.199369,\n",
      "        0.195688\n",
      "    ]\n",
      "}\n",
      "\n",
      "-------------------------\n",
      "Comparison to xTB\n",
      "-------------------------\n",
      "ExTB: -116.9701422\n",
      "Delta E xTB: 2.39\n",
      "\n",
      "-------------------------\n",
      "Other properties\n",
      "-------------------------\n",
      "Confnum: 29\n",
      "Imaginary freqs: 0\n",
      "Gsolv: 0.0\n",
      "HOMO: -6.3313545937386495\n",
      "LUMO: -1.6302340783455\n",
      "Part: 2\n"
     ]
    }
   ],
   "source": [
    "# Units:\n",
    "# - Energy: \n",
    "#       - Default: Hartree (atomic)\n",
    "#       - HOMO and LUMO: eV\n",
    "#       - Relative energies (deltaExTB, deltaGtot): kcal/mol\n",
    "# - Dipole: Debye\n",
    "        \n",
    "\n",
    "print(\"-------------------------\")\n",
    "print(\"Final energies\")\n",
    "print(\"-------------------------\")\n",
    "print(\"Total energy:\" , conf[\"totalenergy\"]) # Total energy, including GCP and D3\n",
    "print('Gtot:', conf['Gtot']) # total r2scan Gibbs free energy, including solvation and modified \n",
    "                             # rigid-rotor entropy\n",
    "g_mrrho = conf['Gtot'] - conf['totalenergy']\n",
    "print(\"G_mRRHO:\", g_mrrho) # contribution from modified rigid-roto\n",
    "print(\"Delta G:\", conf['deltaGtot']) # Gibbs free energy relative to the highest-probability geometry,\n",
    "                                     #  according to DFT\n",
    "print(\"Boltzmann weight:\", conf['boltzmannweight']) # Boltmzann weight using the free energy\n",
    "    \n",
    "print()\n",
    "print(\"-------------------------\")\n",
    "print(\"Energy contributions\")\n",
    "print(\"-------------------------\")\n",
    "print(\"GCP energy:\", conf[\"gcpenergy\"]) # Geometric counter-poise energy\n",
    "print(\"D3 dispersion energy:\", conf[\"dispersionenergy\"]) # Disperison D3 energy\n",
    "print(\"SCF energy:\", conf[\"scfenergy\"]) # SCF energy before GCP and D3 corrections\n",
    "\n",
    "print()\n",
    "print(\"-------------------------\")\n",
    "print(\"Charge density properties\")\n",
    "print(\"-------------------------\")\n",
    "\n",
    "dipole = [conf[\"multipoles\"][0][key] for key in ['X', 'Y', 'Z']]\n",
    "print(\"Dipole\", dipole) # Dipole moment\n",
    "print(\"Dipole norm\", conf['electricdipolemomentnorm']) # Magnitude of dipole moment\n",
    "print(\"Atomic charges\", json.dumps(conf['atomiccharges'],\n",
    "                                  indent=4)) # Partial atomic charges according to different \n",
    "                                             # partitioning schemes\n",
    "\n",
    "print()\n",
    "print(\"-------------------------\")\n",
    "print(\"Comparison to xTB\")\n",
    "print(\"-------------------------\")\n",
    "print('ExTB:', conf['ExTB']) # xTB energy in solution\n",
    "print(\"Delta E xTB:\", conf['deltaExTB']) # Energy of this geometry relative to the lowest-energy one, \n",
    "                                         # according to xTB\n",
    "    \n",
    "\n",
    "print()\n",
    "print(\"-------------------------\")\n",
    "print(\"Other properties\")\n",
    "print(\"-------------------------\")\n",
    "print('Confnum:', conf['confnum']) # Original ranking of this conformer in the CREST ensemble, before it\n",
    "                                   # was re-optimized and re-ranked with CENSO r2scan. Starts at 1, not 0.\n",
    "    \n",
    "print('Imaginary freqs:', conf['imgfreq']) # Number of imaginary frequencies in the Hessian\n",
    "print('Gsolv:', conf['Gsolv']) # solvation free energy. Equal to 0 only because solvation is already included in\n",
    "                               # the DFT calculation, not calculated separately\n",
    "\n",
    "    \n",
    "print('HOMO:', conf['homo']) # HOMO\n",
    "print('LUMO:', conf['lumo']) # LUMO\n",
    "print('Part:', conf['part']) # What part of the CENSO workflow this geometry came from. 0 = b97 single point\n",
    "                             # filtering of CREST geoms, 1 = r2scan single point filtering of CREST geoms,\n",
    "                             # and 2 = r2scan optimization "
   ]
  },
  {
   "cell_type": "markdown",
   "metadata": {},
   "source": [
    "Note that DFT properties can also be found for the single-point calculations:"
   ]
  },
  {
   "cell_type": "code",
   "execution_count": 20,
   "metadata": {},
   "outputs": [
    {
     "data": {
      "text/plain": [
       "['Gtot',\n",
       " 'GxTB',\n",
       " 'homo',\n",
       " 'lumo',\n",
       " 'part',\n",
       " 'Gsolv',\n",
       " 'GmRRHO',\n",
       " 'confnum',\n",
       " 'imgfreq',\n",
       " 'deltaGtot',\n",
       " 'deltaGxTB',\n",
       " 'gcpenergy',\n",
       " 'scfenergy',\n",
       " 'multipoles',\n",
       " 'totalenergy',\n",
       " 'atomiccharges',\n",
       " 'dispersionenergy',\n",
       " 'electricdipolemomentnorm',\n",
       " 'geom_id',\n",
       " 'smiles']"
      ]
     },
     "metadata": {},
     "output_type": "display_data"
    }
   ],
   "source": [
    "single_point = crest_dic['conformers'][0]['r2scan_3c_mtzvpp']\n",
    "display(list(single_point.keys()))"
   ]
  },
  {
   "cell_type": "markdown",
   "metadata": {},
   "source": [
    "## Hessian and orbital data\n",
    "Lastly, we'll look at some extra information about the Hessian of each conformer and its DFT orbitals. This data is stored in a separate file because there's a lot of it.\n",
    "\n",
    "First we'll load the pickle file:"
   ]
  },
  {
   "cell_type": "code",
   "execution_count": 21,
   "metadata": {},
   "outputs": [],
   "source": [
    "# change to your path\n",
    "hess_dir = '/home/saxelrod/rgb_nfs/GEOM/data_after_reviews/censo/hess_and_orbs'\n",
    "\n",
    "pickle_name = censo_summary[smiles]['pickle_path'].split(\"/\")[-1]\n",
    "hess_path = os.path.join(hess_dir, pickle_name)\n",
    "\n",
    "with open(hess_path, 'rb') as f:\n",
    "    hess_dic = pickle.load(f)\n"
   ]
  },
  {
   "cell_type": "markdown",
   "metadata": {},
   "source": [
    "The Hessian / orbital dictionary is organized as `{geom_id: sub_dictionary}` for each conformer, where `geom_id` is the unique ID that labels each conformer in GEOM:"
   ]
  },
  {
   "cell_type": "code",
   "execution_count": 22,
   "metadata": {},
   "outputs": [
    {
     "name": "stdout",
     "output_type": "stream",
     "text": [
      "dict_keys([196774480, 196774944, 196775150, 196775265, 196775415, 196775662, 196775807, 196775910, 196776045, 196776140, 196776245, 196776405, 196776480, 196776961, 196777147, 196777252, 196777377, 196777504, 196777689, 196778035, 196778160, 196778323, 196778486, 196778646, 196778766, 196779022, 196779255, 196779529, 196779821, 196779899, 196779953, 196780078])\n"
     ]
    }
   ],
   "source": [
    "print(hess_dic.keys())"
   ]
  },
  {
   "cell_type": "markdown",
   "metadata": {},
   "source": [
    "To get the Hessian information from the conformer we were just looking at, all we need is its `geom_id`:"
   ]
  },
  {
   "cell_type": "code",
   "execution_count": 23,
   "metadata": {},
   "outputs": [],
   "source": [
    "geom_id = conf['geom_id']\n",
    "hess_info = hess_dic[geom_id]"
   ]
  },
  {
   "cell_type": "markdown",
   "metadata": {},
   "source": [
    "Let's look inside this Hessian / orbital dictionary:"
   ]
  },
  {
   "cell_type": "code",
   "execution_count": 24,
   "metadata": {},
   "outputs": [
    {
     "data": {
      "text/plain": [
       "['geom_id',\n",
       " 'hessianmatrix',\n",
       " 'vibdisps',\n",
       " 'vibfreqs',\n",
       " 'enthalpy',\n",
       " 'entropy',\n",
       " 'freeenergy',\n",
       " 'imgfreq',\n",
       " 'ir',\n",
       " 'zpve',\n",
       " 'raman',\n",
       " 'G_rrho',\n",
       " 'depolar',\n",
       " 'red_masses',\n",
       " 'force_const',\n",
       " 'temperature',\n",
       " 'G_rrho_no_zpve',\n",
       " 'dft_orbitals',\n",
       " 'inp_nxyz',\n",
       " 'opt_nxyz']"
      ]
     },
     "metadata": {},
     "output_type": "display_data"
    }
   ],
   "source": [
    "display(list(hess_info.keys()))"
   ]
  },
  {
   "cell_type": "markdown",
   "metadata": {},
   "source": [
    "Here's what each key means (we won't print out the values because some are huge). Note that all results were calculated with the \"single-point Hessian\" method, in which the energy is $E = E_{\\mathrm{xTB}} + E_{\\mathrm{bias}}$, where $E_{\\mathrm{bias}}$ is a biasing energy added to xTB to make up the difference between xTB and DFT. For this reason, the absolute energies are much closer to those of xTB than r2scan. \n",
    "\n",
    "- `hessianmatrix`: Hessian matrix in atomic units (Hartree / Bohr)\n",
    "- `vibdisps`: Eigenvectors of the mass-weighted Hessian, with each component $i$ scaled by the mass $\\sqrt{m_i}$ of atom $i$. This is the output given in Orca. To displace atoms along mode $j$, you would move them in the direction `vibdisps[j]`. Note that each vector in `vibdisps` is normalized, but the vectors are not orthogonal to each other, because of the scaling by $\\sqrt{m_i}$.\n",
    "- `vibfreqs`: Vibrational frequencies of the $3N - 6$ normal modes, in units of $cm^{-1}$. \n",
    "- `enthalpy`: Enthalpy (including rotation and translation contributions), in Hartree.\n",
    "- `entropy`: $T \\cdot S$, where $T=298.15 \\ K$ is the temperature, and $S$ is the odified rigid-rotor entropy. Result is in Hartree.\n",
    "- `freeenergy`: Gibbs free energy, $G = H - T \\cdot S$, in Hartree.\n",
    "- `imgfreq`: Number of imaginary frequencies in the Hessian\n",
    "- `ir`: IR intensities\n",
    "- `zpve`: Zero-point vibrational energy (Hartree).\n",
    "- `raman`: Raman activities\n",
    "- `G_rrho`: Modified rigid-rotor contribution to the free energy, in Hartree. Equal to $G - E$. In the CENSO dictionary, the reported free energy $G$ is given by the r2scan energy plus `G_rrho` (check for yourself that that's correct!)\n",
    "- `depolar`: Depolarizations\n",
    "- `red_masses`: Reduced masses\n",
    "- `force_const`: Force constants\n",
    "- `temperature`: Temperature at which $G$ is calculated, in Kelvin\n",
    "- `G_rrho_no_zpve`: `G_rrho`, but without the zero-point energy contribution.\n",
    "- `inp_xyz`: The xyz of the geometry\n",
    "- `opt_xyz`: The optimized geometry when using the modified energy term $E = E_{\\mathrm{xTB}} + E_{\\mathrm{bias}}$. Ideally this should be quite close to `inp_xyz`.\n",
    "- `dft_orbitals`: Orbital energies and occupation numbers computed with DFT. Note that everything else in this dictionary was computed with xTB + biasing potential to approximate DFT, whereas `dft_orbitals` are from a separate calculation, and actually used DFT."
   ]
  },
  {
   "cell_type": "markdown",
   "metadata": {},
   "source": [
    "The DFT orbitals are organized as a list of dictionaries, where each dictionary has the occupation of the orbital and its energy:"
   ]
  },
  {
   "cell_type": "code",
   "execution_count": 25,
   "metadata": {},
   "outputs": [
    {
     "data": {
      "text/plain": [
       "[{'energy': -88.775397, 'number': 1, 'orb_type': 'occ'},\n",
       " {'energy': -24.513045, 'number': 2, 'orb_type': 'occ'},\n",
       " {'energy': -18.983867, 'number': 3, 'orb_type': 'occ'}]"
      ]
     },
     "metadata": {},
     "output_type": "display_data"
    },
    {
     "data": {
      "text/plain": [
       "[{'energy': 43.847085, 'number': 841, 'orb_type': 'unocc'},\n",
       " {'energy': 43.903012, 'number': 842, 'orb_type': 'unocc'},\n",
       " {'energy': 57.224232, 'number': 843, 'orb_type': 'unocc'}]"
      ]
     },
     "metadata": {},
     "output_type": "display_data"
    }
   ],
   "source": [
    "# first 3 occupied orbitals. Energies are in Hartree\n",
    "\n",
    "display(hess_info['dft_orbitals'][:3])\n",
    "\n",
    "# the last 3 unoccupied orbitals\n",
    "\n",
    "display(hess_info['dft_orbitals'][-3:])"
   ]
  },
  {
   "cell_type": "markdown",
   "metadata": {},
   "source": [
    "We can plot the density of vibrational frequencies:"
   ]
  },
  {
   "cell_type": "code",
   "execution_count": 26,
   "metadata": {},
   "outputs": [
    {
     "data": {
      "image/png": "[encoded data removed]",
      "text/plain": [
       "<Figure size 432x288 with 1 Axes>"
      ]
     },
     "metadata": {
      "needs_background": "light"
     },
     "output_type": "display_data"
    }
   ],
   "source": [
    "plt.hist(hess_info['vibfreqs'])\n",
    "plt.xlabel(\"Vibrational frequency ($cm^{-1}$)\")\n",
    "plt.ylabel(\"Count\")\n",
    "plt.show()"
   ]
  },
  {
   "cell_type": "markdown",
   "metadata": {},
   "source": [
    "And lastly, we can see how much the vibrational corrections to the free energy matter:"
   ]
  },
  {
   "cell_type": "code",
   "execution_count": 27,
   "metadata": {},
   "outputs": [
    {
     "data": {
      "image/png": "[encoded data removed]",
      "text/plain": [
       "<Figure size 432x288 with 1 Axes>"
      ]
     },
     "metadata": {
      "needs_background": "light"
     },
     "output_type": "display_data"
    },
    {
     "data": {
      "image/png": "[encoded data removed]",
      "text/plain": [
       "<Figure size 432x288 with 1 Axes>"
      ]
     },
     "metadata": {
      "needs_background": "light"
     },
     "output_type": "display_data"
    }
   ],
   "source": [
    "geom_ids = list(hess_dic.keys())\n",
    "rrho_ens = []\n",
    "rel_g = []\n",
    "\n",
    "for geom_id in geom_ids:\n",
    "    rrho_ens.append(hess_dic[geom_id]['G_rrho'])\n",
    "    \n",
    "    conf_dic = [i for i in censo_dic['conformers'] if i['geom_id']\n",
    "               == geom_id][0]\n",
    "    rel_g.append(conf_dic['deltaGtot'])\n",
    "    \n",
    "rrho_ens = np.array(rrho_ens)\n",
    "rel_g = np.array(rel_g)\n",
    "idx = rel_g != 0\n",
    "\n",
    "# subtract mean, convert to kcal\n",
    "rrho_ens = (rrho_ens[idx] - np.mean(rrho_ens)) * 627.5\n",
    "rel_rrho = abs(rrho_ens) / rel_g[idx] * 100\n",
    "\n",
    "plt.hist(rrho_ens - np.mean(rrho_ens))\n",
    "plt.ylabel(\"Count\")\n",
    "plt.xlabel(\"$G_{\\mathrm{mRRHO}} - \\mathrm{mean}(G_{\\mathrm{mRRHO}} )$ (kcal/mol)\")\n",
    "plt.show()\n",
    "\n",
    "\n",
    "plt.hist(rel_rrho)\n",
    "plt.ylabel(\"Count\")\n",
    "plt.xlabel(\"$G_{\\mathrm{mRRHO}} - \\mathrm{mean}(G_{\\mathrm{mRRHO}} )$,\\n compared to relative energy (%)\")\n",
    "plt.show()\n"
   ]
  },
  {
   "cell_type": "markdown",
   "metadata": {},
   "source": [
    "We see that, mostly, the entropic contributions are small ($<20\\%$ of the relative energy), but that in some cases they can still be significant.  "
   ]
  },
  {
   "cell_type": "code",
   "execution_count": null,
   "metadata": {},
   "outputs": [],
   "source": []
  }
 ],
 "metadata": {
  "kernelspec": {
   "display_name": "Python [conda env:geom]",
   "language": "python",
   "name": "geom"
  },
  "language_info": {
   "codemirror_mode": {
    "name": "ipython",
    "version": 3
   },
   "file_extension": ".py",
   "mimetype": "text/x-python",
   "name": "python",
   "nbconvert_exporter": "python",
   "pygments_lexer": "ipython3",
   "version": "3.7.5"
  }
 },
 "nbformat": 4,
 "nbformat_minor": 2
}
